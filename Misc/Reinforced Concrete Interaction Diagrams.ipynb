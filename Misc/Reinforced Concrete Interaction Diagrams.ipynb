{
 "cells": [
  {
   "cell_type": "markdown",
   "metadata": {},
   "source": [
    "## Generate a Force-Moment Interaction Diagram for a doubly-reinforced Concrete Section"
   ]
  },
  {
   "cell_type": "markdown",
   "metadata": {},
   "source": [
    "Tool to generate Force - Moment Interaction Diagrams for reinforced concrete (RC) sections\n",
    "\n",
    "Current implementation is specific to an RC slab that is doubly reinforced with a set rebar spacing. The final interaction diagram is calculated as a force or moment per unit length of the slab. \n",
    "\n",
    "After calculating the interaction diagram, the ACI-318-08 version of the diagram is also calculated.\n",
    "\n",
    "Future To-do list:\n",
    "- Add flexibility to the tool by allowing any number and any size of rebar within the slab/column\n",
    "- Add a GUI and/or graphic to show an image of the slab\n",
    "- Translate the jupyter notebook into a function in a new reinforced concrete module within the structpy package"
   ]
  },
  {
   "cell_type": "code",
   "execution_count": 1,
   "metadata": {
    "ExecuteTime": {
     "end_time": "2018-11-12T02:35:21.511495Z",
     "start_time": "2018-11-12T02:35:16.710816Z"
    }
   },
   "outputs": [],
   "source": [
    "import scipy as sp\n",
    "import numpy as np\n",
    "import matplotlib.pyplot as plt\n",
    "import pandas as pd\n",
    "from IPython.display import display\n",
    "%matplotlib inline"
   ]
  },
  {
   "cell_type": "code",
   "execution_count": 2,
   "metadata": {
    "ExecuteTime": {
     "end_time": "2018-11-12T02:35:21.558465Z",
     "start_time": "2018-11-12T02:35:21.520411Z"
    }
   },
   "outputs": [],
   "source": [
    "# Material Properties\n",
    "\n",
    "fc = 4500   # Concrete compressive strength, psi\n",
    "sy = 72520  # Steel yield strength, psi (= 500MPa)\n",
    "Es = 29e6   # Approximate rebar Young's modulus, psi\n",
    "b1 = min(max(0.85 - 0.05*(fc-4000)/1000,0.65),0.85)   # Equivalent concrete compression zone parameter\n",
    "ec = 0.003  # Max allowed compressive strain in concrete\n",
    "ety = sy/Es # Tensile strain at rebar yield point\n",
    "ett = 0.005  # Tensile strain at tension controlled limit per ACI-318-08, 9.3.2.2\n",
    "\n",
    "# ACI strength factors\n",
    "phi_t = 0.90   # ACI Strength reduction factor in tension controlled sections\n",
    "phi_c = 0.65   # ACI Strength reduction factor in compression controlled sections"
   ]
  },
  {
   "cell_type": "code",
   "execution_count": 3,
   "metadata": {
    "ExecuteTime": {
     "end_time": "2018-11-12T02:35:21.593048Z",
     "start_time": "2018-11-12T02:35:21.564585Z"
    }
   },
   "outputs": [],
   "source": [
    "# Concrete Section Properties\n",
    "\n",
    "h = 1.50*1000/25.4 #1.3*1000/25.4   # Total section thickness, in\n",
    "Db = 1.27   # Rebar bar diameter, in (1.27in for #10 rebar)\n",
    "Ab = np.pi/4*Db**2   # Rebar bar area, in^2\n",
    "spacing = 20/2.54   # Rebar spacing, in\n",
    "As = Ab/spacing   # Rebar area per unit section width, in\n",
    "cover =  12/2.54   # Cover in concrete section, in (min. distance between rebar edge and concrete edge)"
   ]
  },
  {
   "cell_type": "code",
   "execution_count": 4,
   "metadata": {
    "ExecuteTime": {
     "end_time": "2018-11-12T02:35:21.640037Z",
     "start_time": "2018-11-12T02:35:21.611950Z"
    }
   },
   "outputs": [],
   "source": [
    "# Derived Section properties\n",
    "\n",
    "dt = h - cover - 1.5*Db   # Distance between extreme compression fiber and centroid of opposite reinforcement, in\n",
    "dc = cover + 1.5*Db   # Distance from extreme compression fiber to center of compressive rebar, in"
   ]
  },
  {
   "cell_type": "code",
   "execution_count": 5,
   "metadata": {
    "ExecuteTime": {
     "end_time": "2018-11-12T02:35:21.655753Z",
     "start_time": "2018-11-12T02:35:21.647182Z"
    }
   },
   "outputs": [],
   "source": [
    "# Steel normal stress for a given steel strain\n",
    "\n",
    "sigma_s = lambda e: min(Es*e,sy) if e>0 else max(Es*e,-sy)"
   ]
  },
  {
   "cell_type": "code",
   "execution_count": 6,
   "metadata": {
    "ExecuteTime": {
     "end_time": "2018-11-12T02:35:21.995072Z",
     "start_time": "2018-11-12T02:35:21.660736Z"
    }
   },
   "outputs": [],
   "source": [
    "num_pts = 100\n",
    "Zmin = -((ec+ety)/dc*dt)/ety\n",
    "Zmax = ec/ety\n",
    "key_Z_pts = list(filter(lambda e: Zmin<e<Zmax,[0.5,0.0,-0.5,-1.0,-ett/ety,-4.0,-6.0]))\n",
    "\n",
    "rcid = pd.DataFrame()\n",
    "rcid['Z'] = np.sort(np.unique(np.append(np.linspace(Zmax,Zmin,num_pts),key_Z_pts)))[::-1]\n",
    "\n",
    "# Strain in opposite rebar\n",
    "rcid['et1'] = rcid['Z']*ety\n",
    "\n",
    "# Position of neutral axis, assuming the top of the concrete is at the failure strain, in:\n",
    "rcid['c'] = (0-ec)/(rcid['et1']-ec)*dt\n",
    "rcid['c'][rcid['c'] == -np.inf] = np.inf\n",
    "\n",
    "# After Z is minimized, extreme concrete compression fiber is still assumed to be at ec. Hence the neutral axis \n",
    "# is still not at the extreme compression fiber. This is now relieved by keeping the section rotation angle fixed,\n",
    "# and dropping the neutral axis position to 0. The corresponding values of tensile rebar strain and Z are recalculated.\n",
    "# The new c, et1, and Z values are then appended to the end of the original set of values\n",
    "c2 = np.linspace(rcid['c'].iloc[-1],0,int(num_pts/2))[1:]\n",
    "et1_2 = rcid['et1'].iloc[-1] + (0-ec)/(rcid['c'].iloc[-1]) * (rcid['c'].iloc[-1]-c2)\n",
    "Z2 = et1_2/ety\n",
    "rcid2 = pd.DataFrame(np.array([Z2,et1_2,c2]).T,columns=['Z','et1','c'])\n",
    "rcid = rcid.append(rcid2,ignore_index=True)\n",
    "\n",
    "# Distance from extreme compression fiber to end of equivalent concrete zone\n",
    "rcid['a'] = np.minimum(b1*rcid['c'],h)\n",
    "\n",
    "# Strain in top rebar\n",
    "rcid['et2'] = ec + (rcid['et1'] - ec)/dt * dc\n",
    "\n",
    "# Concrete compressive load, lbf/in\n",
    "rcid['Fc'] = 0.85*rcid['a']*fc\n",
    "\n",
    "# Rebar loads\n",
    "rcid['Fs1'] = rcid['et1'].apply(sigma_s)*As - fc*As*(rcid['a']>dt)\n",
    "rcid['Fs2'] = rcid['et2'].apply(sigma_s)*As - fc*As*(rcid['a']>dc)\n",
    "\n",
    "# Axial load in concrete section, lbf/in\n",
    "rcid['P'] = rcid['Fs1'] + rcid['Fs2'] + rcid['Fc']\n",
    "\n",
    "# Section Moment in concrete section about centroid of section, lbf*in/in\n",
    "rcid['M'] = rcid['Fc']*(h/2 - rcid['a']/2) + rcid['Fs2']*(h/2 - dc) + rcid['Fs1']*(h/2-dt)"
   ]
  },
  {
   "cell_type": "code",
   "execution_count": 7,
   "metadata": {
    "ExecuteTime": {
     "end_time": "2018-11-12T02:35:22.058358Z",
     "start_time": "2018-11-12T02:35:22.008691Z"
    },
    "scrolled": true
   },
   "outputs": [],
   "source": [
    "# Calculate the ACI specified section capacities\n",
    "\n",
    "# Maximum allowed compressive load per ACI-318-8, section 10.3.6.1:\n",
    "Pmax = 0.80*phi_c*(0.85*fc*(h-2*As) + 2*As*sy)\n",
    "\n",
    "def aci_factor(L,Z):\n",
    "    # Compression controlled region\n",
    "    if Z >= -1:\n",
    "        return phi_c*L\n",
    "    # Tension controlled region\n",
    "    elif Z <= -ett/ety:\n",
    "        return phi_t*L\n",
    "    # Intermediate region\n",
    "    else:\n",
    "        phi = phi_c + (phi_t - phi_c)/(-ett/ety+1) * (Z+1)\n",
    "        return phi*L\n",
    "    \n",
    "rcid['P_ACI'] = list(map(aci_factor,rcid['P'],rcid['Z']))\n",
    "rcid['P_ACI'] = rcid['P_ACI'].clip(upper=Pmax)\n",
    "rcid['M_ACI'] = list(map(aci_factor,rcid['M'],rcid['Z']))"
   ]
  },
  {
   "cell_type": "code",
   "execution_count": 8,
   "metadata": {
    "ExecuteTime": {
     "end_time": "2018-11-12T02:35:22.127170Z",
     "start_time": "2018-11-12T02:35:22.064982Z"
    }
   },
   "outputs": [],
   "source": [
    "# Interpolate to find the points where P = 0, and P_ACI = 0\n",
    "rcid.set_index('P_ACI',inplace=True)\n",
    "rcid.loc[0] = [np.NaN]*rcid.shape[1]\n",
    "rcid = rcid.sort_index().interpolate()\n",
    "\n",
    "rcid.reset_index(inplace=True)\n",
    "\n",
    "rcid.set_index('P',inplace=True)\n",
    "rcid.loc[0] = [np.NaN]*rcid.shape[1]\n",
    "rcid = rcid.sort_index().interpolate()\n",
    "\n",
    "rcid.reset_index(inplace=True)\n",
    "\n",
    "# rcid must be sorted with 'P' at the end to ensure a correct order of points"
   ]
  },
  {
   "cell_type": "code",
   "execution_count": 9,
   "metadata": {
    "ExecuteTime": {
     "end_time": "2018-11-12T02:35:22.321560Z",
     "start_time": "2018-11-12T02:35:22.137576Z"
    },
    "scrolled": false
   },
   "outputs": [
    {
     "data": {
      "text/html": [
       "<div>\n",
       "<style>\n",
       "    .dataframe thead tr:only-child th {\n",
       "        text-align: right;\n",
       "    }\n",
       "\n",
       "    .dataframe thead th {\n",
       "        text-align: left;\n",
       "    }\n",
       "\n",
       "    .dataframe tbody tr th {\n",
       "        vertical-align: top;\n",
       "    }\n",
       "</style>\n",
       "<table border=\"1\" class=\"dataframe\">\n",
       "  <thead>\n",
       "    <tr style=\"text-align: right;\">\n",
       "      <th></th>\n",
       "      <th>P</th>\n",
       "      <th>P_ACI</th>\n",
       "      <th>Z</th>\n",
       "      <th>et1</th>\n",
       "      <th>c</th>\n",
       "      <th>a</th>\n",
       "      <th>et2</th>\n",
       "      <th>Fc</th>\n",
       "      <th>Fs1</th>\n",
       "      <th>Fs2</th>\n",
       "      <th>M</th>\n",
       "      <th>M_ACI</th>\n",
       "    </tr>\n",
       "  </thead>\n",
       "  <tbody>\n",
       "    <tr>\n",
       "      <th>0</th>\n",
       "      <td>-23333.980754</td>\n",
       "      <td>-21000.582679</td>\n",
       "      <td>-18.594764</td>\n",
       "      <td>-0.046500</td>\n",
       "      <td>0.000000e+00</td>\n",
       "      <td>0.000000</td>\n",
       "      <td>-0.003259</td>\n",
       "      <td>0.000000</td>\n",
       "      <td>-11666.990377</td>\n",
       "      <td>-11666.990377</td>\n",
       "      <td>0.000000e+00</td>\n",
       "      <td>0.000000e+00</td>\n",
       "    </tr>\n",
       "    <tr>\n",
       "      <th>83</th>\n",
       "      <td>0.000000</td>\n",
       "      <td>22.770436</td>\n",
       "      <td>-11.243797</td>\n",
       "      <td>-0.028117</td>\n",
       "      <td>5.054554e+00</td>\n",
       "      <td>4.170007</td>\n",
       "      <td>-0.000935</td>\n",
       "      <td>15950.275997</td>\n",
       "      <td>-11666.990377</td>\n",
       "      <td>-4361.699841</td>\n",
       "      <td>6.049926e+05</td>\n",
       "      <td>5.444933e+05</td>\n",
       "    </tr>\n",
       "    <tr>\n",
       "      <th>135</th>\n",
       "      <td>58924.276325</td>\n",
       "      <td>53031.848692</td>\n",
       "      <td>-1.999448</td>\n",
       "      <td>-0.005000</td>\n",
       "      <td>1.965964e+01</td>\n",
       "      <td>16.219204</td>\n",
       "      <td>0.001988</td>\n",
       "      <td>62038.453836</td>\n",
       "      <td>-11666.990377</td>\n",
       "      <td>8552.812866</td>\n",
       "      <td>1.791733e+06</td>\n",
       "      <td>1.612560e+06</td>\n",
       "    </tr>\n",
       "    <tr>\n",
       "      <th>142</th>\n",
       "      <td>88586.776789</td>\n",
       "      <td>57581.404913</td>\n",
       "      <td>-1.000000</td>\n",
       "      <td>-0.002501</td>\n",
       "      <td>2.859226e+01</td>\n",
       "      <td>23.588611</td>\n",
       "      <td>0.002304</td>\n",
       "      <td>90226.437374</td>\n",
       "      <td>-11666.990377</td>\n",
       "      <td>10027.329792</td>\n",
       "      <td>2.096768e+06</td>\n",
       "      <td>1.362899e+06</td>\n",
       "    </tr>\n",
       "    <tr>\n",
       "      <th>156</th>\n",
       "      <td>247771.890904</td>\n",
       "      <td>128954.320767</td>\n",
       "      <td>1.011843</td>\n",
       "      <td>0.002530</td>\n",
       "      <td>3.348500e+02</td>\n",
       "      <td>59.055118</td>\n",
       "      <td>0.002941</td>\n",
       "      <td>225885.826772</td>\n",
       "      <td>10943.032066</td>\n",
       "      <td>10943.032066</td>\n",
       "      <td>0.000000e+00</td>\n",
       "      <td>0.000000e+00</td>\n",
       "    </tr>\n",
       "    <tr>\n",
       "      <th>157</th>\n",
       "      <td>247771.890904</td>\n",
       "      <td>128954.320767</td>\n",
       "      <td>1.199669</td>\n",
       "      <td>0.003000</td>\n",
       "      <td>3.626564e+17</td>\n",
       "      <td>59.055118</td>\n",
       "      <td>0.003000</td>\n",
       "      <td>225885.826772</td>\n",
       "      <td>10943.032066</td>\n",
       "      <td>10943.032066</td>\n",
       "      <td>0.000000e+00</td>\n",
       "      <td>0.000000e+00</td>\n",
       "    </tr>\n",
       "  </tbody>\n",
       "</table>\n",
       "</div>"
      ],
      "text/plain": [
       "                 P          P_ACI          Z       et1             c  \\\n",
       "0    -23333.980754  -21000.582679 -18.594764 -0.046500  0.000000e+00   \n",
       "83        0.000000      22.770436 -11.243797 -0.028117  5.054554e+00   \n",
       "135   58924.276325   53031.848692  -1.999448 -0.005000  1.965964e+01   \n",
       "142   88586.776789   57581.404913  -1.000000 -0.002501  2.859226e+01   \n",
       "156  247771.890904  128954.320767   1.011843  0.002530  3.348500e+02   \n",
       "157  247771.890904  128954.320767   1.199669  0.003000  3.626564e+17   \n",
       "\n",
       "             a       et2             Fc           Fs1           Fs2  \\\n",
       "0     0.000000 -0.003259       0.000000 -11666.990377 -11666.990377   \n",
       "83    4.170007 -0.000935   15950.275997 -11666.990377  -4361.699841   \n",
       "135  16.219204  0.001988   62038.453836 -11666.990377   8552.812866   \n",
       "142  23.588611  0.002304   90226.437374 -11666.990377  10027.329792   \n",
       "156  59.055118  0.002941  225885.826772  10943.032066  10943.032066   \n",
       "157  59.055118  0.003000  225885.826772  10943.032066  10943.032066   \n",
       "\n",
       "                M         M_ACI  \n",
       "0    0.000000e+00  0.000000e+00  \n",
       "83   6.049926e+05  5.444933e+05  \n",
       "135  1.791733e+06  1.612560e+06  \n",
       "142  2.096768e+06  1.362899e+06  \n",
       "156  0.000000e+00  0.000000e+00  \n",
       "157  0.000000e+00  0.000000e+00  "
      ]
     },
     "metadata": {},
     "output_type": "display_data"
    },
    {
     "data": {
      "text/html": [
       "<div>\n",
       "<style>\n",
       "    .dataframe thead tr:only-child th {\n",
       "        text-align: right;\n",
       "    }\n",
       "\n",
       "    .dataframe thead th {\n",
       "        text-align: left;\n",
       "    }\n",
       "\n",
       "    .dataframe tbody tr th {\n",
       "        vertical-align: top;\n",
       "    }\n",
       "</style>\n",
       "<table border=\"1\" class=\"dataframe\">\n",
       "  <thead>\n",
       "    <tr style=\"text-align: right;\">\n",
       "      <th></th>\n",
       "      <th>P</th>\n",
       "      <th>P_ACI</th>\n",
       "      <th>Z</th>\n",
       "      <th>et1</th>\n",
       "      <th>c</th>\n",
       "      <th>a</th>\n",
       "      <th>et2</th>\n",
       "      <th>Fc</th>\n",
       "      <th>Fs1</th>\n",
       "      <th>Fs2</th>\n",
       "      <th>M</th>\n",
       "      <th>M_ACI</th>\n",
       "    </tr>\n",
       "  </thead>\n",
       "  <tbody>\n",
       "    <tr>\n",
       "      <th>0</th>\n",
       "      <td>-23333.980754</td>\n",
       "      <td>-21000.582679</td>\n",
       "      <td>-18.594764</td>\n",
       "      <td>-0.046500</td>\n",
       "      <td>0.000000e+00</td>\n",
       "      <td>0.000000</td>\n",
       "      <td>-0.003259</td>\n",
       "      <td>0.000000</td>\n",
       "      <td>-11666.990377</td>\n",
       "      <td>-11666.990377</td>\n",
       "      <td>0.000000e+00</td>\n",
       "      <td>0.000000e+00</td>\n",
       "    </tr>\n",
       "    <tr>\n",
       "      <th>82</th>\n",
       "      <td>-207.429411</td>\n",
       "      <td>0.000000</td>\n",
       "      <td>-11.290753</td>\n",
       "      <td>-0.028235</td>\n",
       "      <td>5.035623e+00</td>\n",
       "      <td>4.154389</td>\n",
       "      <td>-0.000950</td>\n",
       "      <td>15890.537136</td>\n",
       "      <td>-11666.990377</td>\n",
       "      <td>-4430.976170</td>\n",
       "      <td>6.018905e+05</td>\n",
       "      <td>5.417015e+05</td>\n",
       "    </tr>\n",
       "    <tr>\n",
       "      <th>135</th>\n",
       "      <td>58924.276325</td>\n",
       "      <td>53031.848692</td>\n",
       "      <td>-1.999448</td>\n",
       "      <td>-0.005000</td>\n",
       "      <td>1.965964e+01</td>\n",
       "      <td>16.219204</td>\n",
       "      <td>0.001988</td>\n",
       "      <td>62038.453836</td>\n",
       "      <td>-11666.990377</td>\n",
       "      <td>8552.812866</td>\n",
       "      <td>1.791733e+06</td>\n",
       "      <td>1.612560e+06</td>\n",
       "    </tr>\n",
       "    <tr>\n",
       "      <th>142</th>\n",
       "      <td>88586.776789</td>\n",
       "      <td>57581.404913</td>\n",
       "      <td>-1.000000</td>\n",
       "      <td>-0.002501</td>\n",
       "      <td>2.859226e+01</td>\n",
       "      <td>23.588611</td>\n",
       "      <td>0.002304</td>\n",
       "      <td>90226.437374</td>\n",
       "      <td>-11666.990377</td>\n",
       "      <td>10027.329792</td>\n",
       "      <td>2.096768e+06</td>\n",
       "      <td>1.362899e+06</td>\n",
       "    </tr>\n",
       "    <tr>\n",
       "      <th>156</th>\n",
       "      <td>247771.890904</td>\n",
       "      <td>128954.320767</td>\n",
       "      <td>1.011843</td>\n",
       "      <td>0.002530</td>\n",
       "      <td>3.348500e+02</td>\n",
       "      <td>59.055118</td>\n",
       "      <td>0.002941</td>\n",
       "      <td>225885.826772</td>\n",
       "      <td>10943.032066</td>\n",
       "      <td>10943.032066</td>\n",
       "      <td>0.000000e+00</td>\n",
       "      <td>0.000000e+00</td>\n",
       "    </tr>\n",
       "    <tr>\n",
       "      <th>157</th>\n",
       "      <td>247771.890904</td>\n",
       "      <td>128954.320767</td>\n",
       "      <td>1.199669</td>\n",
       "      <td>0.003000</td>\n",
       "      <td>3.626564e+17</td>\n",
       "      <td>59.055118</td>\n",
       "      <td>0.003000</td>\n",
       "      <td>225885.826772</td>\n",
       "      <td>10943.032066</td>\n",
       "      <td>10943.032066</td>\n",
       "      <td>0.000000e+00</td>\n",
       "      <td>0.000000e+00</td>\n",
       "    </tr>\n",
       "  </tbody>\n",
       "</table>\n",
       "</div>"
      ],
      "text/plain": [
       "                 P          P_ACI          Z       et1             c  \\\n",
       "0    -23333.980754  -21000.582679 -18.594764 -0.046500  0.000000e+00   \n",
       "82     -207.429411       0.000000 -11.290753 -0.028235  5.035623e+00   \n",
       "135   58924.276325   53031.848692  -1.999448 -0.005000  1.965964e+01   \n",
       "142   88586.776789   57581.404913  -1.000000 -0.002501  2.859226e+01   \n",
       "156  247771.890904  128954.320767   1.011843  0.002530  3.348500e+02   \n",
       "157  247771.890904  128954.320767   1.199669  0.003000  3.626564e+17   \n",
       "\n",
       "             a       et2             Fc           Fs1           Fs2  \\\n",
       "0     0.000000 -0.003259       0.000000 -11666.990377 -11666.990377   \n",
       "82    4.154389 -0.000950   15890.537136 -11666.990377  -4430.976170   \n",
       "135  16.219204  0.001988   62038.453836 -11666.990377   8552.812866   \n",
       "142  23.588611  0.002304   90226.437374 -11666.990377  10027.329792   \n",
       "156  59.055118  0.002941  225885.826772  10943.032066  10943.032066   \n",
       "157  59.055118  0.003000  225885.826772  10943.032066  10943.032066   \n",
       "\n",
       "                M         M_ACI  \n",
       "0    0.000000e+00  0.000000e+00  \n",
       "82   6.018905e+05  5.417015e+05  \n",
       "135  1.791733e+06  1.612560e+06  \n",
       "142  2.096768e+06  1.362899e+06  \n",
       "156  0.000000e+00  0.000000e+00  \n",
       "157  0.000000e+00  0.000000e+00  "
      ]
     },
     "metadata": {},
     "output_type": "display_data"
    }
   ],
   "source": [
    "# Interaction Diagram values at key Z points\n",
    "key_Z_pts_plot = [-1.0,-ett/ety]\n",
    "key_pts = rcid[(rcid['Z'].apply(lambda e: e in key_Z_pts_plot)) | \n",
    "               (rcid['P'] == rcid['P'].max()) | (rcid['P'] == rcid['P'].min()) | (rcid['P'] == 0)].index\n",
    "\n",
    "key_pts_ACI = rcid[(rcid['Z'].apply(lambda e: e in key_Z_pts_plot)) | \n",
    "                   (rcid['P'] == rcid['P'].max()) | (rcid['P'] == rcid['P'].min()) | (rcid['P_ACI'] == 0)].index\n",
    "\n",
    "display(rcid.loc[key_pts])\n",
    "display(rcid.loc[key_pts_ACI])"
   ]
  },
  {
   "cell_type": "code",
   "execution_count": 10,
   "metadata": {
    "ExecuteTime": {
     "end_time": "2018-11-12T02:35:23.547511Z",
     "start_time": "2018-11-12T02:35:22.325463Z"
    },
    "code_folding": [],
    "scrolled": false
   },
   "outputs": [
    {
     "data": {
      "image/png": "[encoded data removed]",
      "text/plain": [
       "<matplotlib.figure.Figure at 0x1fddbaff240>"
      ]
     },
     "metadata": {},
     "output_type": "display_data"
    }
   ],
   "source": [
    "# Plot the theoretical Interaction Diagram for the RC section\n",
    "fig, ax = plt.subplots(figsize=(10,10))\n",
    "ax.plot(rcid['M'], rcid['P'],'b-')\n",
    "ax.plot(rcid['M_ACI'],rcid['P_ACI'],'g-')\n",
    "ax.set_xlim([min(rcid['M']),max(rcid['M'])*1.1])\n",
    "ax.grid(which='both')\n",
    "ax.set_xlabel('M (lbf*in/in)')\n",
    "ax.set_ylabel('P (lbf/in)')\n",
    "ax.set_title('Interaction Diagram\\n(M, P per unit section width)')\n",
    "# ax.set_xticks(np.arange(0,max(rcid['M'])*1.1,50000),minor=True)\n",
    "label2 = '%0.3e lbf*in/in' %(rcid['M'].max())\n",
    "\n",
    "arrows = dict(arrowstyle=\"->\",connectionstyle=\"arc3,rad=0.2\",shrinkB=5)\n",
    "arrows_ACI = dict(arrowstyle=\"->\",connectionstyle=\"arc3,rad=-0.2\",shrinkB=5)\n",
    "\n",
    "P = []\n",
    "M = []\n",
    "for i in key_pts:\n",
    "    x = rcid['M'].loc[i]\n",
    "    y = rcid['P'].loc[i]\n",
    "    \n",
    "    #Avoid duplicate points\n",
    "    if x in M and y in P:\n",
    "        continue\n",
    "    P.append(y)\n",
    "    M.append(x)\n",
    "    ax.scatter(x,y,marker='x',c='k')\n",
    "    label = '(%0.2e, %0.2e)' %(rcid['P'].loc[i],rcid['M'].loc[i])\n",
    "    ax.annotate(label,(x,y),\n",
    "           xytext=(60,-10),textcoords='offset pixels',color='b', arrowprops=arrows)\n",
    "\n",
    "P = []\n",
    "M = []\n",
    "for i in key_pts_ACI:\n",
    "    x = rcid['M_ACI'].loc[i]\n",
    "    y = rcid['P_ACI'].loc[i]\n",
    "    \n",
    "    #Avoid duplicate points\n",
    "    if x in M and y in P:\n",
    "        continue\n",
    "    P.append(y)\n",
    "    M.append(x)\n",
    "    ax.scatter(x,y,marker='x',c='k')\n",
    "    label = '(%0.2e, %0.2e)' %(rcid['P_ACI'].loc[i],rcid['M_ACI'].loc[i])\n",
    "    ax.annotate(label,(x,y),\n",
    "           xytext=(60,-30),textcoords='offset pixels',color='g',arrowprops=arrows_ACI)"
   ]
  },
  {
   "cell_type": "code",
   "execution_count": null,
   "metadata": {},
   "outputs": [],
   "source": []
  },
  {
   "cell_type": "code",
   "execution_count": null,
   "metadata": {},
   "outputs": [],
   "source": []
  }
 ],
 "metadata": {
  "hide_input": false,
  "kernelspec": {
   "display_name": "Python 3",
   "language": "python",
   "name": "python3"
  },
  "language_info": {
   "codemirror_mode": {
    "name": "ipython",
    "version": 3
   },
   "file_extension": ".py",
   "mimetype": "text/x-python",
   "name": "python",
   "nbconvert_exporter": "python",
   "pygments_lexer": "ipython3",
   "version": "3.6.3"
  },
  "toc": {
   "base_numbering": 1,
   "nav_menu": {
    "height": "76px",
    "width": "160px"
   },
   "number_sections": false,
   "sideBar": true,
   "skip_h1_title": false,
   "title_cell": "Table of Contents",
   "title_sidebar": "Contents",
   "toc_cell": false,
   "toc_position": {
    "height": "calc(100% - 180px)",
    "left": "10px",
    "top": "150px",
    "width": "165px"
   },
   "toc_section_display": true,
   "toc_window_display": false
  },
  "varInspector": {
   "cols": {
    "lenName": 16,
    "lenType": 16,
    "lenVar": 40
   },
   "kernels_config": {
    "python": {
     "delete_cmd_postfix": "",
     "delete_cmd_prefix": "del ",
     "library": "var_list.py",
     "varRefreshCmd": "print(var_dic_list())"
    },
    "r": {
     "delete_cmd_postfix": ") ",
     "delete_cmd_prefix": "rm(",
     "library": "var_list.r",
     "varRefreshCmd": "cat(var_dic_list()) "
    }
   },
   "types_to_exclude": [
    "module",
    "function",
    "builtin_function_or_method",
    "instance",
    "_Feature"
   ],
   "window_display": false
  }
 },
 "nbformat": 4,
 "nbformat_minor": 2
}
